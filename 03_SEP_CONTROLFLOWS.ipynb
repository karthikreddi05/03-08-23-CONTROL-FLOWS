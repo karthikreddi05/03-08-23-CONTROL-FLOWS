{
 "cells": [
  {
   "cell_type": "code",
   "execution_count": 1,
   "id": "98687c98-9b7b-49d3-923b-8e5d00798cb6",
   "metadata": {},
   "outputs": [
    {
     "name": "stdout",
     "output_type": "stream",
     "text": [
      "The given number is negative\n"
     ]
    }
   ],
   "source": [
    "num = (1.2)\n",
    "if num==0:\n",
    "    print(\"The given number is postive\")\n",
    "else:\n",
    "    print(\"The given number is negative\")"
   ]
  },
  {
   "cell_type": "code",
   "execution_count": 3,
   "id": "088da996-e30a-4abc-9495-4ea5da9d8239",
   "metadata": {},
   "outputs": [
    {
     "name": "stdout",
     "output_type": "stream",
     "text": [
      "eligiable\n"
     ]
    }
   ],
   "source": [
    "age = (18)\n",
    "if age>=18:\n",
    "    print(\"eligiable\")\n",
    "else:\n",
    "    print(\"not eligiable\")"
   ]
  },
  {
   "cell_type": "code",
   "execution_count": 4,
   "id": "57e8eddc-a953-4c89-af6a-3601dba31546",
   "metadata": {},
   "outputs": [
    {
     "name": "stdout",
     "output_type": "stream",
     "text": [
      "4\n"
     ]
    }
   ],
   "source": [
    "def maximum(a, b):\n",
    "\t\n",
    "\tif a >= b:\n",
    "\t\treturn a\n",
    "\telse:\n",
    "\t\treturn b\n",
    "\n",
    "a = 2\n",
    "b = 4\n",
    "print(maximum(a, b))\n"
   ]
  },
  {
   "cell_type": "code",
   "execution_count": 10,
   "id": "f0423296-9f77-4140-a9c1-3486ae7a56ba",
   "metadata": {},
   "outputs": [
    {
     "name": "stdin",
     "output_type": "stream",
     "text": [
      "Enter any year that is to be checked for leap year:  2002\n"
     ]
    },
    {
     "name": "stdout",
     "output_type": "stream",
     "text": [
      "It is not a leap year\n"
     ]
    }
   ],
   "source": [
    "year = int (input (\"Enter any year that is to be checked for leap year: \"))\n",
    "\n",
    "if (year % 4) == 0:\n",
    "\n",
    "              if (year % 100) == 0:\n",
    "\n",
    "                             if (year % 400) == 0:\n",
    "\n",
    "                                            print (\"The given year is a leap year\")\n",
    "\n",
    "                             else:\n",
    "\n",
    "                                            print (\"It is not a leap year\")\n",
    "\n",
    "              else:\n",
    "\n",
    "                             print (\"It is not a leap year\")\n",
    "\n",
    "else:     \n",
    "\n",
    "            print (\"It is not a leap year\")"
   ]
  },
  {
   "cell_type": "code",
   "execution_count": 11,
   "id": "1f298f32-eab2-491f-9530-28071734e356",
   "metadata": {},
   "outputs": [
    {
     "name": "stdout",
     "output_type": "stream",
     "text": [
      "Consonant\n",
      "Vowel\n"
     ]
    }
   ],
   "source": [
    "def vowelOrConsonant(x):\n",
    "\tif (x == 'a' or x == 'e' or\n",
    "\t\tx == 'i' or x == 'o' or x == 'u'):\n",
    "\t\tprint(\"Vowel\")\n",
    "\telse:\n",
    "\t\tprint(\"Consonant\")\n",
    "vowelOrConsonant('c')\n",
    "vowelOrConsonant('e')"
   ]
  },
  {
   "cell_type": "code",
   "execution_count": 2,
   "id": "c81667b3-34c8-40a6-abf0-4576e54cafd7",
   "metadata": {},
   "outputs": [
    {
     "name": "stdin",
     "output_type": "stream",
     "text": [
      "enter any number :  10\n"
     ]
    },
    {
     "name": "stdout",
     "output_type": "stream",
     "text": [
      "its even number\n"
     ]
    }
   ],
   "source": [
    "num = int(input (\"enter any number : \"))\n",
    "\n",
    "if num % 2 == 0:\n",
    "    print(\"its even number\")\n",
    "else:\n",
    "    print(\"its odd number\")"
   ]
  },
  {
   "cell_type": "code",
   "execution_count": 3,
   "id": "68ff51c3-d681-4f51-bc09-bf7c4f5e1820",
   "metadata": {},
   "outputs": [
    {
     "name": "stdout",
     "output_type": "stream",
     "text": [
      "10\n",
      "20\n",
      "0\n"
     ]
    }
   ],
   "source": [
    "def absolute_value(num):\n",
    "    \"\"\"This function returns the absolute\n",
    "    value of the entered number\"\"\"\n",
    "    if num >= 0:\n",
    "        return num\n",
    "    else:\n",
    "        return -num\n",
    "print(absolute_value(10))  \n",
    "print(absolute_value(-20))  \n",
    "print(absolute_value(0))"
   ]
  },
  {
   "cell_type": "code",
   "execution_count": 1,
   "id": "64582493-9209-436a-a9e4-92941ec99b20",
   "metadata": {},
   "outputs": [
    {
     "name": "stdout",
     "output_type": "stream",
     "text": [
      "num3\n"
     ]
    }
   ],
   "source": [
    "num1 = 10\n",
    "num2 = 20\n",
    "num3 = 30\n",
    "\n",
    "if num1>num2:\n",
    "    print(\"num1\")\n",
    "elif num2>num3:\n",
    "    print(\"num3\")\n",
    "else:\n",
    "    print(\"num3\")"
   ]
  },
  {
   "cell_type": "code",
   "execution_count": 2,
   "id": "91fd148b-7665-45ca-a43d-9d4f871a8b0c",
   "metadata": {},
   "outputs": [
    {
     "name": "stdout",
     "output_type": "stream",
     "text": [
      "Yes\n"
     ]
    }
   ],
   "source": [
    "def isPalindrome(s):\n",
    "\treturn s == s[::-1]\n",
    "s = \"malayalam\"\n",
    "ans = isPalindrome(s)\n",
    "if ans:\n",
    "\tprint(\"Yes\")\n",
    "else:\n",
    "\tprint(\"No\")"
   ]
  },
  {
   "cell_type": "code",
   "execution_count": 8,
   "id": "ad20e303-a777-4705-9645-f0d41451ffcd",
   "metadata": {},
   "outputs": [
    {
     "name": "stdout",
     "output_type": "stream",
     "text": [
      "Enter Marks Obtained in 5 Subjects: \n",
      "Your Grade is B1\n"
     ]
    }
   ],
   "source": [
    "print(\"Enter Marks Obtained in 5 Subjects: \")\n",
    "total1 = 44\n",
    "total2 = 67\n",
    "total3 = 76\n",
    "total4 = 99\n",
    "total5 = 58\n",
    "\n",
    "tot = total1 + total2 + total3 + total4 + total4\n",
    "avg = tot / 5\n",
    "\n",
    "if avg >= 91 and avg <= 100:\n",
    "\tprint(\"Your Grade is A1\")\n",
    "elif avg >= 81 and avg < 91:\n",
    "\tprint(\"Your Grade is A2\")\n",
    "elif avg >= 71 and avg < 81:\n",
    "\tprint(\"Your Grade is B1\")\n",
    "elif avg >= 61 and avg < 71:\n",
    "\tprint(\"Your Grade is B2\")\n",
    "elif avg >= 51 and avg < 61:\n",
    "\tprint(\"Your Grade is C1\")\n",
    "elif avg >= 41 and avg < 51:\n",
    "\tprint(\"Your Grade is C2\")\n",
    "elif avg >= 33 and avg < 41:\n",
    "\tprint(\"Your Grade is D\")\n",
    "elif avg >= 21 and avg < 33:\n",
    "\tprint(\"Your Grade is E1\")\n",
    "elif avg >= 0 and avg < 21:\n",
    "\tprint(\"Your Grade is E2\")\n",
    "else:\n",
    "\tprint(\"Invalid Input!\")"
   ]
  },
  {
   "cell_type": "code",
   "execution_count": 9,
   "id": "b5747130-6bf6-4873-a21e-1c149c8b03e5",
   "metadata": {},
   "outputs": [
    {
     "name": "stdout",
     "output_type": "stream",
     "text": [
      "30\n"
     ]
    }
   ],
   "source": [
    "num1, num2, num3 = 10 , 30 , 20\n",
    "max = 0\n",
    "if num1 >= num2 and num1 >= num3:\n",
    "  print(num1)\n",
    "elif num2 >= num1 and num2 >= num3:\n",
    "  print(num2)\n",
    "else:\n",
    "  print(num3)"
   ]
  },
  {
   "cell_type": "code",
   "execution_count": 2,
   "id": "11233708-2404-477f-b117-6386dc3442c6",
   "metadata": {},
   "outputs": [
    {
     "name": "stdout",
     "output_type": "stream",
     "text": [
      "Scalene Triangle\n"
     ]
    }
   ],
   "source": [
    "def checkTriangle(x, y, z):\n",
    "\tif x == y == z:\n",
    "\t\tprint(\"Equilateral Triangle\")\n",
    "\telif x == y or y == z or z == x:\n",
    "\t\tprint(\"Isosceles Triangle\")\n",
    "\telse:\n",
    "\t\tprint(\"Scalene Triangle\")\n",
    "x = 8\n",
    "y = 7\n",
    "z = 9\n",
    "checkTriangle(x, y, z)"
   ]
  },
  {
   "cell_type": "code",
   "execution_count": 3,
   "id": "cc6e8e64-b3c3-441a-972e-0c493a669465",
   "metadata": {},
   "outputs": [
    {
     "name": "stdout",
     "output_type": "stream",
     "text": [
      "2000 is a leap year\n"
     ]
    }
   ],
   "source": [
    "year = 2000\n",
    "if (year % 400 == 0) and (year % 100 == 0):\n",
    "    print(\"{0} is a leap year\".format(year))\n",
    "elif (year % 4 ==0) and (year % 100 != 0):\n",
    "    print(\"{0} is a leap year\".format(year))\n",
    "else:\n",
    "    print(\"{0} is not a leap year\".format(year))"
   ]
  },
  {
   "cell_type": "code",
   "execution_count": 1,
   "id": "04742ee9-0369-41c1-b76e-d5cf39e10751",
   "metadata": {},
   "outputs": [
    {
     "name": "stdin",
     "output_type": "stream",
     "text": [
      "Enter a number:  -10\n"
     ]
    },
    {
     "name": "stdout",
     "output_type": "stream",
     "text": [
      "Negative number\n"
     ]
    }
   ],
   "source": [
    "num = float(input(\"Enter a number: \"))\n",
    "if num > 0:\n",
    "   print(\"Positive number\")\n",
    "elif num == 0:\n",
    "   print(\"Zero\")\n",
    "else:\n",
    "   print(\"Negative number\")"
   ]
  },
  {
   "cell_type": "code",
   "execution_count": 2,
   "id": "699a7c4a-43b6-4a95-9f8a-8c48afe947f8",
   "metadata": {},
   "outputs": [
    {
     "name": "stdin",
     "output_type": "stream",
     "text": [
      "Please enter your age: 20\n"
     ]
    },
    {
     "name": "stdout",
     "output_type": "stream",
     "text": [
      "Adult\n"
     ]
    }
   ],
   "source": [
    "age = int(input(\"Please enter your age:\"))\n",
    "if age <= 0:\n",
    "\tprint('Invalid input')\n",
    "elif age >= 1 and age <= 5:\n",
    "\tprint('Infant')\n",
    "elif age >= 6 and age <= 10:\n",
    "\tprint('Child')\n",
    "else:\n",
    "\tprint('Adult')"
   ]
  },
  {
   "cell_type": "code",
   "execution_count": 3,
   "id": "bf7de88e-a7a3-4e61-8ad3-c6c8a16b51ef",
   "metadata": {},
   "outputs": [
    {
     "name": "stdout",
     "output_type": "stream",
     "text": [
      "Input lengths of the triangle sides: \n"
     ]
    },
    {
     "name": "stdin",
     "output_type": "stream",
     "text": [
      "x:  10\n",
      "y:  10\n",
      "z:  10\n"
     ]
    },
    {
     "name": "stdout",
     "output_type": "stream",
     "text": [
      "Equilateral triangle\n"
     ]
    }
   ],
   "source": [
    "print(\"Input lengths of the triangle sides: \")\n",
    "x = int(input(\"x: \"))\n",
    "y = int(input(\"y: \"))\n",
    "z = int(input(\"z: \"))\n",
    "\n",
    "if x == y == z:\n",
    "\tprint(\"Equilateral triangle\")\n",
    "elif x==y or y==z or z==x:\n",
    "\tprint(\"isosceles triangle\")\n",
    "else:\n",
    "\tprint(\"Scalene triangle\")"
   ]
  },
  {
   "cell_type": "code",
   "execution_count": 4,
   "id": "edaeb285-623a-4105-84a7-d73f9d6e9ee5",
   "metadata": {},
   "outputs": [
    {
     "name": "stdout",
     "output_type": "stream",
     "text": [
      "The solution are (-3+0j) and (-2+0j)\n"
     ]
    }
   ],
   "source": [
    "import cmath\n",
    "a = 1\n",
    "b = 5\n",
    "c = 6\n",
    "d = (b**2) - (4*a*c)\n",
    "sol1 = (-b-cmath.sqrt(d))/(2*a)\n",
    "sol2 = (-b+cmath.sqrt(d))/(2*a)\n",
    "print('The solution are {0} and {1}'.format(sol1,sol2))"
   ]
  },
  {
   "cell_type": "code",
   "execution_count": 5,
   "id": "83c09db6-3e66-4ed7-ad82-17989ccb31e2",
   "metadata": {},
   "outputs": [
    {
     "name": "stdout",
     "output_type": "stream",
     "text": [
      "Sunday\n"
     ]
    }
   ],
   "source": [
    "import datetime\n",
    "import calendar\n",
    "\n",
    "def findDay(date):\n",
    "\tborn = datetime.datetime.strptime(date, '%d %m %Y').weekday()\n",
    "\treturn (calendar.day_name[born])\n",
    "date = '03 02 2019'\n",
    "print(findDay(date))"
   ]
  },
  {
   "cell_type": "code",
   "execution_count": 6,
   "id": "8303bc7e-51ec-48df-bda7-725dea4191ee",
   "metadata": {},
   "outputs": [
    {
     "name": "stdout",
     "output_type": "stream",
     "text": [
      "2000 is a leap year\n"
     ]
    }
   ],
   "source": [
    "year = 2000\n",
    "if (year % 400 == 0) and (year % 100 == 0):\n",
    "    print(\"{0} is a leap year\".format(year))\n",
    "elif (year % 4 ==0) and (year % 100 != 0):\n",
    "    print(\"{0} is a leap year\".format(year))\n",
    "else:\n",
    "    print(\"{0} is not a leap year\".format(year))"
   ]
  },
  {
   "cell_type": "code",
   "execution_count": 14,
   "id": "4ef29adc-080c-4454-9ed9-3ef9f9fcabe1",
   "metadata": {},
   "outputs": [
    {
     "name": "stdout",
     "output_type": "stream",
     "text": [
      "11 is a prime number\n"
     ]
    }
   ],
   "source": [
    "num = 11\n",
    "if num > 1:\n",
    "\tfor i in range(2, int(num/2)+1):\n",
    "\t\tif (num % i) == 0:\n",
    "\t\t\tprint(num, \"is not a prime number\")\n",
    "\t\t\tbreak\n",
    "\telse:\n",
    "\t\tprint(num, \"is a prime number\")\n",
    "else:\n",
    "\tprint(num, \"is not a prime number\")"
   ]
  },
  {
   "cell_type": "code",
   "execution_count": 1,
   "id": "1af16eb7-e504-4224-adb0-84123ba58759",
   "metadata": {},
   "outputs": [
    {
     "name": "stdout",
     "output_type": "stream",
     "text": [
      "Enter Marks Obtained in 5 Subjects: \n",
      "Your Grade is B1\n"
     ]
    }
   ],
   "source": [
    "print(\"Enter Marks Obtained in 5 Subjects: \")\n",
    "total1 = 44\n",
    "total2 = 67\n",
    "total3 = 76\n",
    "total4 = 99\n",
    "total5 = 58\n",
    "\n",
    "tot = total1 + total2 + total3 + total4 + total4\n",
    "avg = tot / 5\n",
    "\n",
    "if avg >= 91 and avg <= 100:\n",
    "\tprint(\"Your Grade is A1\")\n",
    "elif avg >= 81 and avg < 91:\n",
    "\tprint(\"Your Grade is A2\")\n",
    "elif avg >= 71 and avg < 81:\n",
    "\tprint(\"Your Grade is B1\")\n",
    "elif avg >= 61 and avg < 71:\n",
    "\tprint(\"Your Grade is B2\")\n",
    "elif avg >= 51 and avg < 61:\n",
    "\tprint(\"Your Grade is C1\")\n",
    "elif avg >= 41 and avg < 51:\n",
    "\tprint(\"Your Grade is C2\")\n",
    "elif avg >= 33 and avg < 41:\n",
    "\tprint(\"Your Grade is D\")\n",
    "elif avg >= 21 and avg < 33:\n",
    "\tprint(\"Your Grade is E1\")\n",
    "elif avg >= 0 and avg < 21:\n",
    "\tprint(\"Your Grade is E2\")\n",
    "else:\n",
    "\tprint(\"Invalid Input!\")"
   ]
  },
  {
   "cell_type": "code",
   "execution_count": 2,
   "id": "f57a4d51-23b4-4dd4-b1cf-85ce1720b361",
   "metadata": {},
   "outputs": [
    {
     "name": "stdout",
     "output_type": "stream",
     "text": [
      "alpha : 90.000000\n",
      "betta : 45.000000\n",
      "gamma : 45.000000\n"
     ]
    }
   ],
   "source": [
    "import math\n",
    "\n",
    "def lengthSquare(X, Y):\n",
    "\txDiff = X[0] - Y[0]\n",
    "\tyDiff = X[1] - Y[1]\n",
    "\treturn xDiff * xDiff + yDiff * yDiff\n",
    "\t\n",
    "def printAngle(A, B, C):\n",
    "\t\n",
    "\t\n",
    "\ta2 = lengthSquare(B, C)\n",
    "\tb2 = lengthSquare(A, C)\n",
    "\tc2 = lengthSquare(A, B)\n",
    "    \n",
    "\ta = math.sqrt(a2);\n",
    "\tb = math.sqrt(b2);\n",
    "\tc = math.sqrt(c2);\n",
    "\n",
    "\talpha = math.acos((b2 + c2 - a2) /\n",
    "\t\t\t\t\t\t(2 * b * c));\n",
    "\tbetta = math.acos((a2 + c2 - b2) /\n",
    "\t\t\t\t\t\t(2 * a * c));\n",
    "\tgamma = math.acos((a2 + b2 - c2) /\n",
    "\t\t\t\t\t\t(2 * a * b));\n",
    "\talpha = alpha * 180 / math.pi;\n",
    "\tbetta = betta * 180 / math.pi;\n",
    "\tgamma = gamma * 180 / math.pi;\n",
    "\tprint(\"alpha : %f\" %(alpha))\n",
    "\tprint(\"betta : %f\" %(betta))\n",
    "\tprint(\"gamma : %f\" %(gamma))\n",
    "A = (0, 0)\n",
    "B = (0, 1)\n",
    "C = (1, 0)\n",
    "printAngle(A, B, C);"
   ]
  },
  {
   "cell_type": "code",
   "execution_count": 3,
   "id": "98f0fbab-74f5-49a2-98fc-9cc6a26a8dbc",
   "metadata": {},
   "outputs": [
    {
     "name": "stdout",
     "output_type": "stream",
     "text": [
      "The BMI is 21.64532402096181 so Healthy\n"
     ]
    }
   ],
   "source": [
    "def BMI(height, weight):\n",
    "\tbmi = weight/(height**2)\n",
    "\treturn bmi\n",
    "height = 1.79832\n",
    "weight = 70\n",
    "bmi = BMI(height, weight)\n",
    "print(\"The BMI is\", format(bmi), \"so \", end='')\n",
    "if (bmi < 18.5):\n",
    "\tprint(\"underweight\")\n",
    "elif ( bmi >= 18.5 and bmi < 24.9):\n",
    "\tprint(\"Healthy\")\n",
    "elif ( bmi >= 24.9 and bmi < 30):\n",
    "\tprint(\"overweight\")\n",
    "elif ( bmi >=30):\n",
    "\tprint(\"Suffering from Obesity\")"
   ]
  },
  {
   "cell_type": "code",
   "execution_count": 4,
   "id": "c03244ac-590b-413f-9c59-a2ccbd6351ca",
   "metadata": {},
   "outputs": [
    {
     "name": "stdin",
     "output_type": "stream",
     "text": [
      "Enter a number:  10\n"
     ]
    },
    {
     "name": "stdout",
     "output_type": "stream",
     "text": [
      "Positive number\n"
     ]
    }
   ],
   "source": [
    "num = float(input(\"Enter a number: \"))\n",
    "if num > 0:\n",
    "   print(\"Positive number\")\n",
    "elif num == 0:\n",
    "   print(\"Zero\")\n",
    "else:\n",
    "   print(\"Negative number\")\n"
   ]
  },
  {
   "cell_type": "code",
   "execution_count": 5,
   "id": "4d6abe0b-22e6-4a51-8255-8097df9a1ef2",
   "metadata": {},
   "outputs": [
    {
     "name": "stdout",
     "output_type": "stream",
     "text": [
      "A is an UpperCase character\n",
      "a is an LowerCase character\n",
      "0 is not an alphabetic character\n"
     ]
    }
   ],
   "source": [
    "def check(ch):\n",
    "\tif (ch >= 'A' and ch <= 'Z'):\n",
    "\t\tprint(ch,\"is an UpperCase character\");\n",
    "\n",
    "\telif (ch >= 'a' and ch <= 'z'):\n",
    "\t\tprint(ch,\"is an LowerCase character\");\n",
    "\telse:\n",
    "\t\tprint(ch,\"is not an alphabetic character\");\n",
    "ch = 'A';\n",
    "check(ch);\n",
    "ch = 'a';\n",
    "check(ch);\n",
    "ch = '0';check(ch);"
   ]
  },
  {
   "cell_type": "code",
   "execution_count": 6,
   "id": "cade8475-7439-4861-b21a-14cb89031b09",
   "metadata": {},
   "outputs": [
    {
     "name": "stdin",
     "output_type": "stream",
     "text": [
      "Enter Sale Amount:  100\n"
     ]
    },
    {
     "name": "stdout",
     "output_type": "stream",
     "text": [
      "Discount :  5.0\n",
      "Net Pay  :  95.0\n"
     ]
    }
   ],
   "source": [
    "amt = int(input(\"Enter Sale Amount: \"))\n",
    "if(amt>0):\n",
    "    if amt<=5000:\n",
    "       disc = amt*0.05\n",
    "    elif amt<=15000:\n",
    "        disc=amt*0.12\n",
    "    elif amt<=25000:\n",
    "        disc=0.2 * amt\n",
    "    else:\n",
    "         disc=0.3 * amt\n",
    "\n",
    "    print(\"Discount : \",disc)\n",
    "    print(\"Net Pay  : \",amt-disc)\n",
    "else:\n",
    "    print(\"Invalid Amount\")"
   ]
  },
  {
   "cell_type": "code",
   "execution_count": 7,
   "id": "aa043cf2-69ef-4ca9-bf3f-8feeab090b1d",
   "metadata": {},
   "outputs": [
    {
     "name": "stdout",
     "output_type": "stream",
     "text": [
      "3500\n"
     ]
    }
   ],
   "source": [
    "def calculateBill(units):\n",
    "\tif (units <= 100):\n",
    "\t\treturn units * 10;\n",
    "\telif (units <= 200):\n",
    "\t\treturn ((100 * 10) +\n",
    "\t\t\t\t(units - 100) * 15);\n",
    "\telif (units <= 300):\n",
    "\t\treturn ((100 * 10) +\n",
    "\t\t\t\t(100 * 15) +\n",
    "\t\t\t\t(units - 200) * 20);\n",
    "\telif (units > 300):\n",
    "\t\treturn ((100 * 10) +\n",
    "\t\t\t\t(100 * 15) +\n",
    "\t\t\t\t(100 * 20) +\n",
    "\t\t\t\t(units - 300) * 25);\n",
    "\treturn 0;\n",
    "units = 250;\n",
    "print(calculateBill(units));"
   ]
  },
  {
   "cell_type": "code",
   "execution_count": 8,
   "id": "01cbf05c-73e9-497b-9175-3f96a4bdda1f",
   "metadata": {},
   "outputs": [
    {
     "name": "stdout",
     "output_type": "stream",
     "text": [
      "Scalene Triangle\n"
     ]
    }
   ],
   "source": [
    "def checkTriangle(x, y, z):\n",
    "\tif x == y == z:\n",
    "\t\tprint(\"Equilateral Triangle\")\n",
    "\telif x == y or y == z or z == x:\n",
    "\t\tprint(\"Isosceles Triangle\")\n",
    "\telse:\n",
    "\t\tprint(\"Scalene Triangle\")\n",
    "x = 8\n",
    "y = 7\n",
    "z = 9\n",
    "checkTriangle(x, y, z)"
   ]
  },
  {
   "cell_type": "code",
   "execution_count": 9,
   "id": "9abf8d33-0b92-4a4a-b811-60607031e8aa",
   "metadata": {},
   "outputs": [
    {
     "name": "stdout",
     "output_type": "stream",
     "text": [
      "For Month number: 5\n",
      "SPRING\n",
      "For Month number: 10\n",
      "AUTUMN\n"
     ]
    }
   ],
   "source": [
    "def findseason (M) :\n",
    "\tlist1 = [[12 , 1 , 2], [3 , 4 , 5],\n",
    "\t\t\t[6 , 7 , 8], [9 , 10 , 11]]\n",
    "\tif M in list1[0] :\n",
    "\t\tprint ( \"WINTER\" )\n",
    "\telif M in list1[1] :\n",
    "\t\tprint ( \"SPRING\" )\n",
    "\telif M in list1[2] :\n",
    "\t\tprint ( \"SUMMER\" )\n",
    "\telif M in list1[3] :\n",
    "\t\tprint ( \"AUTUMN\" )\n",
    "\telse :\n",
    "\t\tprint ( \"Invalid Month Number\" )\n",
    "M = 5\n",
    "print(\"For Month number:\", M);\n",
    "findseason ( M )\n",
    "M = 10\n",
    "print(\"For Month number:\", M);\n",
    "findseason ( M )"
   ]
  },
  {
   "cell_type": "code",
   "execution_count": 10,
   "id": "c91358ac-3dc8-4561-ba72-c01592f0bb87",
   "metadata": {},
   "outputs": [
    {
     "name": "stdout",
     "output_type": "stream",
     "text": [
      "2000 is a leap year\n"
     ]
    }
   ],
   "source": [
    "year = 2000\n",
    "if (year % 400 == 0) and (year % 100 == 0):\n",
    "    print(\"{0} is a leap year\".format(year))\n",
    "elif (year % 4 ==0) and (year % 100 != 0):\n",
    "    print(\"{0} is a leap year\".format(year))\n",
    "else:\n",
    "    print(\"{0} is not a leap year\".format(year))"
   ]
  },
  {
   "cell_type": "code",
   "execution_count": 11,
   "id": "dcf6bf21-ba4a-4886-930a-7f3a403670ea",
   "metadata": {},
   "outputs": [
    {
     "name": "stdin",
     "output_type": "stream",
     "text": [
      "Enter a number:  10\n"
     ]
    },
    {
     "name": "stdout",
     "output_type": "stream",
     "text": [
      "Positive number\n"
     ]
    }
   ],
   "source": [
    "num = float(input(\"Enter a number: \"))\n",
    "if num > 0:\n",
    "   print(\"Positive number\")\n",
    "elif num == 0:\n",
    "   print(\"Zero\")\n",
    "else:\n",
    "   print(\"Negative number\")\n"
   ]
  },
  {
   "cell_type": "code",
   "execution_count": 14,
   "id": "6aba3c5a-b062-4e96-9829-4a9fdcd1b007",
   "metadata": {},
   "outputs": [
    {
     "name": "stdin",
     "output_type": "stream",
     "text": [
      "Enter age :  20\n"
     ]
    },
    {
     "name": "stdout",
     "output_type": "stream",
     "text": [
      "Eligible for Voting! \n"
     ]
    }
   ],
   "source": [
    "age = int(input(\"Enter age : \"))\n",
    "if age >= 18: \n",
    "    print(\"Eligible for Voting! \") \n",
    "else: \n",
    "    print(\"Not Eligible for Voting!\")"
   ]
  },
  {
   "cell_type": "code",
   "execution_count": 16,
   "id": "dcfb8813-af76-4e23-95aa-6b46e1318625",
   "metadata": {},
   "outputs": [
    {
     "name": "stdout",
     "output_type": "stream",
     "text": [
      "4\n"
     ]
    }
   ],
   "source": [
    "def maximum(a, b):\t\n",
    "\tif a >= b:\n",
    "\t\treturn a\n",
    "\telse:\n",
    "\t\treturn b\n",
    "a = 2\n",
    "b = 4\n",
    "print(maximum(a, b))"
   ]
  },
  {
   "cell_type": "code",
   "execution_count": 17,
   "id": "e1adbbeb-8b23-49c6-8f0f-1e18e18d6c0a",
   "metadata": {},
   "outputs": [
    {
     "name": "stdout",
     "output_type": "stream",
     "text": [
      "Enter Marks Obtained in 5 Subjects: \n"
     ]
    },
    {
     "name": "stdin",
     "output_type": "stream",
     "text": [
      " 250\n",
      " 100\n",
      " 100\n",
      " 100\n",
      " 100\n"
     ]
    },
    {
     "name": "stdout",
     "output_type": "stream",
     "text": [
      "Invalid Input!\n"
     ]
    }
   ],
   "source": [
    "print(\"Enter Marks Obtained in 5 Subjects: \")\n",
    "markOne = int(input())\n",
    "markTwo = int(input())\n",
    "markThree = int(input())\n",
    "markFour = int(input())\n",
    "markFive = int(input())\n",
    "\n",
    "tot = markOne+markTwo+markThree+markFour+markFive\n",
    "avg = tot/5\n",
    "\n",
    "if avg>=91 and avg<=100:\n",
    "    print(\"Your Grade is A1\")\n",
    "elif avg>=81 and avg<91:\n",
    "    print(\"Your Grade is A2\")\n",
    "elif avg>=71 and avg<81:\n",
    "    print(\"Your Grade is B1\")\n",
    "elif avg>=61 and avg<71:\n",
    "    print(\"Your Grade is B2\")\n",
    "elif avg>=51 and avg<61:\n",
    "    print(\"Your Grade is C1\")\n",
    "elif avg>=41 and avg<51:\n",
    "    print(\"Your Grade is C2\")\n",
    "elif avg>=33 and avg<41:\n",
    "    print(\"Your Grade is D\")\n",
    "elif avg>=21 and avg<33:\n",
    "    print(\"Your Grade is E1\")\n",
    "elif avg>=0 and avg<21:\n",
    "    print(\"Your Grade is E2\")\n",
    "else:\n",
    "    print(\"Invalid Input!\")"
   ]
  },
  {
   "cell_type": "code",
   "execution_count": 18,
   "id": "893c4104-4c9f-4c03-b24c-c2d96fbfc6e3",
   "metadata": {},
   "outputs": [
    {
     "name": "stdout",
     "output_type": "stream",
     "text": [
      "2000 is a leap year\n"
     ]
    }
   ],
   "source": [
    "year = 2000\n",
    "if (year % 400 == 0) and (year % 100 == 0):\n",
    "    print(\"{0} is a leap year\".format(year))\n",
    "elif (year % 4 ==0) and (year % 100 != 0):\n",
    "    print(\"{0} is a leap year\".format(year))\n",
    "else:\n",
    "    print(\"{0} is not a leap year\".format(year))"
   ]
  },
  {
   "cell_type": "code",
   "execution_count": 19,
   "id": "3e9c9942-5dc9-4a8f-a288-619f3d596614",
   "metadata": {},
   "outputs": [
    {
     "name": "stdout",
     "output_type": "stream",
     "text": [
      "The largest number is 14\n"
     ]
    }
   ],
   "source": [
    "num1 = 10\n",
    "num2 = 14\n",
    "num3 = 12\n",
    "\n",
    "if (num1 >= num2) and (num1 >= num3):\n",
    "   largest = num1\n",
    "elif (num2 >= num1) and (num2 >= num3):\n",
    "   largest = num2\n",
    "else:\n",
    "   largest = num3\n",
    "\n",
    "print(\"The largest number is\", largest)"
   ]
  },
  {
   "cell_type": "code",
   "execution_count": 20,
   "id": "1f2fc688-702e-4e0d-b2f9-0d7d1536f415",
   "metadata": {},
   "outputs": [
    {
     "name": "stdout",
     "output_type": "stream",
     "text": [
      "Consonant\n",
      "Vowel\n"
     ]
    }
   ],
   "source": [
    "def vowelOrConsonant(x):\n",
    "\tif (x == 'a' or x == 'e' or\n",
    "\t\tx == 'i' or x == 'o' or x == 'u'):\n",
    "\t\tprint(\"Vowel\")\n",
    "\telse:\n",
    "\t\tprint(\"Consonant\")\n",
    "vowelOrConsonant('c')\n",
    "vowelOrConsonant('e')"
   ]
  },
  {
   "cell_type": "code",
   "execution_count": 21,
   "id": "92e4da1d-2a09-4d69-a426-4a34daf3f7f4",
   "metadata": {},
   "outputs": [
    {
     "name": "stdout",
     "output_type": "stream",
     "text": [
      "16.67%\n"
     ]
    }
   ],
   "source": [
    "def discount_percentage(M, S):\n",
    "\tfraction = S / M\n",
    "\tdiscount_fraction = 1 - fraction\n",
    "\tpercentage = discount_fraction * 100\n",
    "\treturn f\"{percentage:.2f}%\"\n",
    "\n",
    "M = 120\n",
    "S = 100\n",
    "print(discount_percentage(M, S))"
   ]
  },
  {
   "cell_type": "code",
   "execution_count": 22,
   "id": "798583f7-0d6f-4c3f-82e3-90c2f0890524",
   "metadata": {},
   "outputs": [
    {
     "name": "stdin",
     "output_type": "stream",
     "text": [
      "Enter a number:  100\n"
     ]
    },
    {
     "name": "stdout",
     "output_type": "stream",
     "text": [
      "100 is Even\n"
     ]
    }
   ],
   "source": [
    "num = int(input(\"Enter a number: \"))\n",
    "if (num % 2) == 0:\n",
    "   print(\"{0} is Even\".format(num))\n",
    "else:\n",
    "   print(\"{0} is Odd\".format(num))"
   ]
  },
  {
   "cell_type": "code",
   "execution_count": 23,
   "id": "cb6b32ff-b3d3-4e82-b60a-a432182650dd",
   "metadata": {},
   "outputs": [
    {
     "name": "stdout",
     "output_type": "stream",
     "text": [
      "The solution are (-3+0j) and (-2+0j)\n"
     ]
    }
   ],
   "source": [
    "import cmath\n",
    "a = 1\n",
    "b = 5\n",
    "c = 6\n",
    "d = (b**2) - (4*a*c)\n",
    "sol1 = (-b-cmath.sqrt(d))/(2*a)\n",
    "sol2 = (-b+cmath.sqrt(d))/(2*a)\n",
    "print('The solution are {0} and {1}'.format(sol1,sol2))"
   ]
  },
  {
   "cell_type": "code",
   "execution_count": 24,
   "id": "1b4d9198-9869-4952-91b9-ee7937c5d6b7",
   "metadata": {},
   "outputs": [
    {
     "name": "stdout",
     "output_type": "stream",
     "text": [
      "Sunday\n"
     ]
    }
   ],
   "source": [
    "import datetime\n",
    "import calendar\n",
    "def findDay(date):\n",
    "\tborn = datetime.datetime.strptime(date, '%d %m %Y').weekday()\n",
    "\treturn (calendar.day_name[born])\n",
    "date = '03 02 2019'\n",
    "print(findDay(date))"
   ]
  },
  {
   "cell_type": "code",
   "execution_count": 25,
   "id": "31d64baa-d9c3-4568-8774-ca270549c6ba",
   "metadata": {},
   "outputs": [
    {
     "name": "stdout",
     "output_type": "stream",
     "text": [
      "The factorial of 7 is 5040\n"
     ]
    }
   ],
   "source": [
    "def recur_factorial(n):\n",
    "   if n == 1:\n",
    "       return n\n",
    "   else:\n",
    "       return n*recur_factorial(n-1)\n",
    "num = 7\n",
    "if num < 0:\n",
    "   print(\"Sorry, factorial does not exist for negative numbers\")\n",
    "elif num == 0:\n",
    "   print(\"The factorial of 0 is 1\")\n",
    "else:\n",
    "   print(\"The factorial of\", num, \"is\", recur_factorial(num))"
   ]
  },
  {
   "cell_type": "code",
   "execution_count": 26,
   "id": "7a28c7b0-41d9-4a1f-8099-9ebef8016a5e",
   "metadata": {},
   "outputs": [
    {
     "name": "stdout",
     "output_type": "stream",
     "text": [
      "14\n"
     ]
    }
   ],
   "source": [
    "def maximum(a, b, c):\n",
    "\tif (a >= b) and (a >= c):\n",
    "\t\tlargest = a\n",
    "\telif (b >= a) and (b >= c):\n",
    "\t\tlargest = b\n",
    "\telse:\n",
    "\t\tlargest = c\n",
    "\treturn largest\n",
    "a = 10\n",
    "b = 14\n",
    "c = 12\n",
    "print(maximum(a, b, c))"
   ]
  },
  {
   "cell_type": "code",
   "execution_count": 27,
   "id": "59a6eebf-c01e-4703-8ca8-e5d2bd790114",
   "metadata": {},
   "outputs": [
    {
     "name": "stdout",
     "output_type": "stream",
     "text": [
      "Yes\n"
     ]
    }
   ],
   "source": [
    "def isPalindrome(s):\n",
    "\treturn s == s[::-1]\n",
    "s = \"malayalam\"\n",
    "ans = isPalindrome(s)\n",
    "\n",
    "if ans:\n",
    "\tprint(\"Yes\")\n",
    "else:\n",
    "\tprint(\"No\")"
   ]
  },
  {
   "cell_type": "code",
   "execution_count": 28,
   "id": "0cacda3f-58be-4922-a0b8-f0af783b7cd2",
   "metadata": {},
   "outputs": [
    {
     "name": "stdout",
     "output_type": "stream",
     "text": [
      "37.5 degree Celsius is equal to 99.5 degree Fahrenheit\n"
     ]
    }
   ],
   "source": [
    "celsius = 37.5\n",
    "fahrenheit = (celsius * 1.8) + 32\n",
    "print('%0.1f degree Celsius is equal to %0.1f degree Fahrenheit' %(celsius,fahrenheit))"
   ]
  },
  {
   "cell_type": "code",
   "execution_count": 29,
   "id": "9571e103-97c4-453a-974a-da26f3fcc240",
   "metadata": {},
   "outputs": [
    {
     "name": "stdout",
     "output_type": "stream",
     "text": [
      "Cubic root of 3 is 1.44225\n"
     ]
    }
   ],
   "source": [
    "def diff(n, mid):\n",
    "\tif (n > (mid * mid * mid)):\n",
    "\t\treturn (n - (mid * mid * mid))\n",
    "\telse:\n",
    "\t\treturn ((mid * mid * mid) - n)\n",
    "def cubicRoot(n):\n",
    "\tstart = 0\n",
    "\tend = n\n",
    "\te = 0.0000001\n",
    "\twhile (True):\n",
    "\t\tmid = (start + end) / 2\n",
    "\t\terror = diff(n, mid)\n",
    "\t\tif (error <= e):\n",
    "\t\t\treturn mid\n",
    "\t\tif ((mid * mid * mid) > n):\n",
    "\t\t\tend = mid\n",
    "\t\telse:\n",
    "\t\t\tstart = mid\n",
    "n = 3\n",
    "print(\"Cubic root of\", n, \"is\",\n",
    "\tround(cubicRoot(n), 6))"
   ]
  },
  {
   "cell_type": "code",
   "execution_count": 30,
   "id": "fa695cf1-c6cb-40cb-b3a4-1bf0af9963bb",
   "metadata": {},
   "outputs": [
    {
     "name": "stdin",
     "output_type": "stream",
     "text": [
      "What's your \t\t\t\t\tannual income?\n",
      ">>>  100000\n"
     ]
    },
    {
     "name": "stdout",
     "output_type": "stream",
     "text": [
      "Total tax applicable at \t\t\t\t\t₹100000.0 is ₹0\n"
     ]
    }
   ],
   "source": [
    "def calculate(amount, percent):\n",
    "\treturn (amount * percent) / 100\n",
    "\n",
    "def calculate_income_tax(total_income:\n",
    "\t\t\t\t\t\tfloat) -> float:\n",
    "\n",
    "\tif total_income <= 250000:\n",
    "\t\treturn 0\n",
    "\telif total_income <= 500000:\n",
    "\t\treturn calculate(total_income -\n",
    "\t\t\t\t\t\t250000, 5)\n",
    "\telif total_income <= 750000:\n",
    "\t\treturn calculate(total_income -\n",
    "\t\t\t\t\t\t500000, 10) + 12500\n",
    "\telif total_income <= 1000000:\n",
    "\t\treturn calculate(total_income -\n",
    "\t\t\t\t\t\t750000, 15) + 37500\n",
    "\telif total_income <= 1250000:\n",
    "\t\treturn calculate(total_income -\n",
    "\t\t\t\t\t\t1000000, 20) + 75000\n",
    "\telif total_income <= 1500000:\n",
    "\t\treturn calculate(total_income -\n",
    "\t\t\t\t\t\t1250000, 25) + 125000\n",
    "\telse:\n",
    "\t\treturn calculate(total_income -\n",
    "\t\t\t\t\t\t1500000, 30) + 187500\n",
    "if __name__ == '__main__':\n",
    "\ttotal_income = float(input(\"What's your \\\n",
    "\t\t\t\t\tannual income?\\n>>> \"))\n",
    "\ttax = calculate_income_tax(total_income)\n",
    "\tprint(f\"Total tax applicable at \\\n",
    "\t\t\t\t\t₹{total_income} is ₹{tax}\")"
   ]
  },
  {
   "cell_type": "code",
   "execution_count": null,
   "id": "c01f36ca-5daf-4aea-9cb2-16ac66e58f09",
   "metadata": {},
   "outputs": [],
   "source": []
  }
 ],
 "metadata": {
  "kernelspec": {
   "display_name": "Python 3 (ipykernel)",
   "language": "python",
   "name": "python3"
  },
  "language_info": {
   "codemirror_mode": {
    "name": "ipython",
    "version": 3
   },
   "file_extension": ".py",
   "mimetype": "text/x-python",
   "name": "python",
   "nbconvert_exporter": "python",
   "pygments_lexer": "ipython3",
   "version": "3.10.8"
  }
 },
 "nbformat": 4,
 "nbformat_minor": 5
}
